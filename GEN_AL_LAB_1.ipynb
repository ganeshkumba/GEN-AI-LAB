{
  "nbformat": 4,
  "nbformat_minor": 0,
  "metadata": {
    "colab": {
      "provenance": [],
      "authorship_tag": "ABX9TyN2dST7JIPcigmM537Rj4sz",
      "include_colab_link": true
    },
    "kernelspec": {
      "name": "python3",
      "display_name": "Python 3"
    },
    "language_info": {
      "name": "python"
    }
  },
  "cells": [
    {
      "cell_type": "markdown",
      "metadata": {
        "id": "view-in-github",
        "colab_type": "text"
      },
      "source": [
        "<a href=\"https://colab.research.google.com/github/ganeshkumba/GEN-AI-LAB/blob/main/GEN_AL_LAB_1.ipynb\" target=\"_parent\"><img src=\"https://colab.research.google.com/assets/colab-badge.svg\" alt=\"Open In Colab\"/></a>"
      ]
    },
    {
      "cell_type": "code",
      "execution_count": 1,
      "metadata": {
        "id": "yh0-vLG1QYFm"
      },
      "outputs": [],
      "source": [
        "import math"
      ]
    },
    {
      "cell_type": "code",
      "source": [
        "Y_actual = [20, 30, 40, 50, 60]\n",
        "y_Pred = [20.5, 30.3, 40.2, 50.6, 60.7]\n",
        "mean_actual = 0\n",
        "for i in range(len(Y_actual)):\n",
        "  mean_actual += Y_actual[i]\n",
        "\n",
        "mean_actual = mean_actual/len(Y_actual)\n",
        "print(\"Mean of actual values:\", mean_actual)"
      ],
      "metadata": {
        "colab": {
          "base_uri": "https://localhost:8080/"
        },
        "id": "im5SOUSFQn0a",
        "outputId": "e1503318-4e9a-4411-e4eb-7bb4838d629e"
      },
      "execution_count": 2,
      "outputs": [
        {
          "output_type": "stream",
          "name": "stdout",
          "text": [
            "Mean of actual values: 40.0\n"
          ]
        }
      ]
    },
    {
      "cell_type": "code",
      "source": [
        "squared_diff =[]\n",
        "for i in range(len(Y_actual)):\n",
        "  squared_diff.append((Y_actual[i] - y_Pred[i]) ** 2)\n",
        "mse = sum(squared_diff) / len(Y_actual)\n",
        "rmse = math.sqrt(mse)\n",
        "\n",
        "print(\"RMSE:\", rmse)\n",
        "print(\"mse :\",mse)\n"
      ],
      "metadata": {
        "colab": {
          "base_uri": "https://localhost:8080/"
        },
        "id": "8ST7mKfAQsnP",
        "outputId": "9a65ae4c-706a-45e2-bddd-67bbdb823869"
      },
      "execution_count": 3,
      "outputs": [
        {
          "output_type": "stream",
          "name": "stdout",
          "text": [
            "RMSE: 0.49598387070549127\n",
            "mse : 0.24600000000000147\n"
          ]
        }
      ]
    },
    {
      "cell_type": "code",
      "source": [
        "mae =[]\n",
        "for i in range(len(Y_actual)):\n",
        "  mae.append((Y_actual[i] -y_Pred[i]))\n",
        "MAE = sum(mae) / len(Y_actual)\n",
        "print(\"MAE:\", abs(MAE))"
      ],
      "metadata": {
        "colab": {
          "base_uri": "https://localhost:8080/"
        },
        "id": "Y18-h5EqQxJA",
        "outputId": "f4e85210-c829-4af3-985a-3b7db2a82e0e"
      },
      "execution_count": 4,
      "outputs": [
        {
          "output_type": "stream",
          "name": "stdout",
          "text": [
            "MAE: 0.4600000000000016\n"
          ]
        }
      ]
    }
  ]
}